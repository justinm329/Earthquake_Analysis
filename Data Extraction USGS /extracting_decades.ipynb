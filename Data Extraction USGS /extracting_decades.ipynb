{
  "cells": [
    {
      "cell_type": "markdown",
      "metadata": {
        "id": "view-in-github",
        "colab_type": "text"
      },
      "source": [
        "<a href=\"https://colab.research.google.com/github/justinm329/Earthquake_Analysis/blob/main/extracting_decades.ipynb\" target=\"_parent\"><img src=\"https://colab.research.google.com/assets/colab-badge.svg\" alt=\"Open In Colab\"/></a>"
      ]
    },
    {
      "cell_type": "code",
      "execution_count": null,
      "id": "d8a70bb8-d627-48e4-9990-fb4516024244",
      "metadata": {
        "id": "d8a70bb8-d627-48e4-9990-fb4516024244"
      },
      "outputs": [],
      "source": [
        "from datetime import datetime\n",
        "import io\n",
        "\n",
        "# Third party imports\n",
        "from IPython.display import display, HTML\n",
        "import matplotlib.pyplot as plt\n",
        "import matplotlib\n",
        "import numpy as np\n",
        "import pandas as pd\n",
        "\n",
        "# Local imports\n",
        "from libcomcat.dataframes import (get_detail_data_frame, get_dyfi_data_frame,\n",
        "                                  get_history_data_frame, get_magnitude_data_frame,\n",
        "                                  get_pager_data_frame, get_phase_dataframe,\n",
        "                                  get_summary_data_frame)\n",
        "from libcomcat.search import search, get_event_by_id\n",
        "import warnings\n",
        "\n",
        "warnings.filterwarnings(\"ignore\")"
      ]
    },
    {
      "cell_type": "markdown",
      "id": "99f62bd4-a8c8-4196-af72-56d1d52aa0eb",
      "metadata": {
        "id": "99f62bd4-a8c8-4196-af72-56d1d52aa0eb"
      },
      "source": [
        "## Get Summary dataframe"
      ]
    },
    {
      "cell_type": "code",
      "execution_count": null,
      "id": "a1deb235-636e-450e-9cce-3e3d7459fc35",
      "metadata": {
        "id": "a1deb235-636e-450e-9cce-3e3d7459fc35"
      },
      "outputs": [],
      "source": [
        "# california_cities = [\n",
        "#     {\"city\": \"Los Angeles\", \"latitude\": 34.05, \"longitude\": -118.24},\n",
        "#     {\"city\": \"San Francisco\", \"latitude\": 37.77, \"longitude\": -122.42},\n",
        "#     {\"city\": \"San Diego\", \"latitude\": 32.71, \"longitude\": -117.16},\n",
        "#     {\"city\": \"San Jose\", \"latitude\": 37.34, \"longitude\": -121.89}]\n"
      ]
    },
    {
      "cell_type": "code",
      "execution_count": null,
      "id": "8d97f991-9315-426c-a1fc-09b4d2b48ce2",
      "metadata": {
        "id": "8d97f991-9315-426c-a1fc-09b4d2b48ce2"
      },
      "outputs": [],
      "source": [
        "\n",
        "la_events_00_23= search(starttime=datetime(2000, 1, 1, 12, 30), endtime=datetime(2023, 9, 15, 12, 30),\n",
        "                   maxradiuskm=150, latitude=34.05, longitude=-118.24)\n",
        "la_00_23_df = get_summary_data_frame(la_events_00_23)\n",
        "\n",
        "la_events_89_99= search(starttime=datetime(1989, 1, 1, 12, 30), endtime=datetime(1999, 12, 31, 12, 30),\n",
        "                   maxradiuskm=150, latitude=34.05, longitude=-118.24)\n",
        "la_89_99_df = get_summary_data_frame(la_events_89_99)\n",
        "\n",
        "la_events_79_88= search(starttime=datetime(1979, 1, 1, 12, 30), endtime=datetime(1988, 12, 31, 12, 30),\n",
        "                   maxradiuskm=150, latitude=34.05, longitude=-118.24)\n",
        "la_79_88_df = get_summary_data_frame(la_events_79_88)\n",
        "\n",
        "la_events_70_78= search(starttime=datetime(1970, 1, 1, 12, 30), endtime=datetime(1978, 12, 31, 12, 30),\n",
        "                   maxradiuskm=150, latitude=34.05, longitude=-118.24)\n",
        "la_70_78_df = get_summary_data_frame(la_events_70_78)\n"
      ]
    },
    {
      "cell_type": "code",
      "execution_count": null,
      "id": "de6d8c05-acc6-4316-8c21-b53fc3b1cd93",
      "metadata": {
        "id": "de6d8c05-acc6-4316-8c21-b53fc3b1cd93"
      },
      "outputs": [],
      "source": [
        "la_00_23_df.to_csv('LA_2000_2023', index = False)\n",
        "la_89_99_df.to_csv('LA_1989_1999', index = False)\n",
        "la_79_88_df.to_csv('LA_1979_1988', index = False)\n",
        "la_70_78_df.to_csv('LA_1970_1978', index = False)"
      ]
    },
    {
      "cell_type": "code",
      "execution_count": null,
      "id": "d725ddbd-d4fa-451d-8a0c-3e8d70e6c707",
      "metadata": {
        "id": "d725ddbd-d4fa-451d-8a0c-3e8d70e6c707"
      },
      "outputs": [],
      "source": []
    },
    {
      "cell_type": "code",
      "execution_count": null,
      "id": "1ede3f6a-5ccb-456c-8fae-5a0436fa6110",
      "metadata": {
        "id": "1ede3f6a-5ccb-456c-8fae-5a0436fa6110"
      },
      "outputs": [],
      "source": [
        "sf_events_00_23= search(starttime=datetime(2000, 1, 1, 12, 30), endtime=datetime(2023, 9, 15, 12, 30),\n",
        "                   maxradiuskm=150, latitude=37.77, longitude=-122.42)\n",
        "sf_00_23_df = get_summary_data_frame(sf_events_00_23)\n",
        "\n",
        "sf_events_89_99= search(starttime=datetime(1989, 1, 1, 12, 30), endtime=datetime(1999, 12, 31, 12, 30),\n",
        "                   maxradiuskm=150, latitude=37.77, longitude=-122.42)\n",
        "sf_89_99_df = get_summary_data_frame(sf_events_89_99)\n",
        "\n",
        "sf_events_79_88= search(starttime=datetime(1979, 1, 1, 12, 30), endtime=datetime(1988, 12, 31, 12, 30),\n",
        "                   maxradiuskm=150, latitude=37.77, longitude=-122.42)\n",
        "sf_79_88_df = get_summary_data_frame(sf_events_79_88)\n",
        "\n",
        "sf_events_70_78= search(starttime=datetime(1970, 1, 1, 12, 30), endtime=datetime(1978, 12, 31, 12, 30),\n",
        "                   maxradiuskm=150, latitude=37.77, longitude=-122.42)\n",
        "sf_70_78_df = get_summary_data_frame(sf_events_70_78)"
      ]
    },
    {
      "cell_type": "code",
      "execution_count": null,
      "id": "923bdc3f-a468-4e28-a4ce-72c4e03bcaa2",
      "metadata": {
        "id": "923bdc3f-a468-4e28-a4ce-72c4e03bcaa2"
      },
      "outputs": [],
      "source": [
        "sf_00_23_df.to_csv('SF_2000_2023', index = False)\n",
        "sf_89_99_df.to_csv('SF_1989_1999', index = False)\n",
        "sf_79_88_df.to_csv('SF_1979_1988', index = False)\n",
        "sf_70_78_df.to_csv('SF_1970_1978', index = False)"
      ]
    },
    {
      "cell_type": "code",
      "execution_count": null,
      "id": "d746f8f9-6e2c-407c-a841-c3650517e398",
      "metadata": {
        "id": "d746f8f9-6e2c-407c-a841-c3650517e398"
      },
      "outputs": [],
      "source": [
        "sd_events_00_23= search(starttime=datetime(2000, 1, 1, 12, 30), endtime=datetime(2023, 9, 15, 12, 30),\n",
        "                   maxradiuskm=150, latitude=37.77, longitude=-122.42)\n",
        "sd_00_23_df = get_summary_data_frame(sd_events_00_23)\n",
        "\n",
        "sd_events_89_99= search(starttime=datetime(1989, 1, 1, 12, 30), endtime=datetime(1999, 12, 31, 12, 30),\n",
        "                   maxradiuskm=150, latitude=37.77, longitude=-122.42)\n",
        "sd_89_99_df = get_summary_data_frame(sd_events_89_99)\n",
        "\n",
        "sd_events_79_88= search(starttime=datetime(1979, 1, 1, 12, 30), endtime=datetime(1988, 12, 31, 12, 30),\n",
        "                   maxradiuskm=150, latitude=37.77, longitude=-122.42)\n",
        "sd_79_88_df = get_summary_data_frame(sd_events_79_88)\n",
        "\n",
        "sd_events_70_78= search(starttime=datetime(1970, 1, 1, 12, 30), endtime=datetime(1978, 12, 31, 12, 30),\n",
        "                   maxradiuskm=150, latitude=37.77, longitude=-122.42)\n",
        "sd_70_78_df = get_summary_data_frame(sd_events_70_78)"
      ]
    },
    {
      "cell_type": "code",
      "execution_count": null,
      "id": "7d114b18-654e-42d7-b7f8-2644241b3d78",
      "metadata": {
        "id": "7d114b18-654e-42d7-b7f8-2644241b3d78"
      },
      "outputs": [],
      "source": [
        "sd_00_23_df.to_csv('SD_2000_2023', index = False)\n",
        "sd_89_99_df.to_csv('SD_1989_1999', index = False)\n",
        "sd_79_88_df.to_csv('SD_1979_1988', index = False)\n",
        "sd_70_78_df.to_csv('SD_1970_1978', index = False)"
      ]
    },
    {
      "cell_type": "code",
      "execution_count": null,
      "id": "2184261e-8eb5-4c43-ad54-87e196f532d2",
      "metadata": {
        "id": "2184261e-8eb5-4c43-ad54-87e196f532d2"
      },
      "outputs": [],
      "source": [
        "sj_events_00_23= search(starttime=datetime(2000, 1, 1, 12, 30), endtime=datetime(2023, 9, 15, 12, 30),\n",
        "                   maxradiuskm=150, latitude=37.77, longitude=-122.42)\n",
        "sj_00_23_df = get_summary_data_frame(sj_events_00_23)\n",
        "\n",
        "sj_events_89_99= search(starttime=datetime(1989, 1, 1, 12, 30), endtime=datetime(1999, 12, 31, 12, 30),\n",
        "                   maxradiuskm=150, latitude=37.77, longitude=-122.42)\n",
        "sj_89_99_df = get_summary_data_frame(sj_events_89_99)\n",
        "\n",
        "sj_events_79_88= search(starttime=datetime(1979, 1, 1, 12, 30), endtime=datetime(1988, 12, 31, 12, 30),\n",
        "                   maxradiuskm=150, latitude=37.77, longitude=-122.42)\n",
        "sj_79_88_df = get_summary_data_frame(sj_events_79_88)\n",
        "\n",
        "sj_events_70_78= search(starttime=datetime(1970, 1, 1, 12, 30), endtime=datetime(1978, 12, 31, 12, 30),\n",
        "                   maxradiuskm=150, latitude=37.77,longitude=-122.42)\n",
        "sj_70_78_df = get_summary_data_frame(sj_events_70_78)"
      ]
    },
    {
      "cell_type": "code",
      "execution_count": null,
      "id": "1e4135f0-bb6a-40d3-86ef-48f629ead4f2",
      "metadata": {
        "id": "1e4135f0-bb6a-40d3-86ef-48f629ead4f2"
      },
      "outputs": [],
      "source": [
        "sj_00_23_df.to_csv('SJ_2000_2023', index = False)\n",
        "sj_89_99_df.to_csv('SJ_1989_1999', index = False)\n",
        "sj_79_88_df.to_csv('SJ_1979_1988', index = False)\n",
        "sj_70_78_df.to_csv('SJ_1970_1978', index = False)"
      ]
    },
    {
      "cell_type": "code",
      "execution_count": null,
      "id": "73fc0075-37fc-4b39-9977-55cfe898bf3b",
      "metadata": {
        "id": "73fc0075-37fc-4b39-9977-55cfe898bf3b"
      },
      "outputs": [],
      "source": [
        "# major_cali_cities_150km = summary_df_2.to_csv('calicities_150km', index = False)"
      ]
    },
    {
      "cell_type": "code",
      "execution_count": null,
      "id": "b2a26d59-80c4-4d49-ad5f-3764f5226a9f",
      "metadata": {
        "id": "b2a26d59-80c4-4d49-ad5f-3764f5226a9f"
      },
      "outputs": [],
      "source": [
        "# for lat_log in california_cities:\n",
        "#     summary_events_3 = search(starttime=datetime(1989, 1, 1, 12, 30), endtime=datetime(1999, 12, 31, 12, 30),\n",
        "#                        maxradiuskm=150, latitude=lat_log['latitude'], longitude=lat_log['longitude'])\n",
        "#     summary_df_3 = get_summary_data_frame(summary_events_3)\n",
        "\n",
        "# display(summary_df_3)"
      ]
    },
    {
      "cell_type": "code",
      "execution_count": null,
      "id": "9658fb9b-d85b-46f9-a83f-0005a8df836c",
      "metadata": {
        "id": "9658fb9b-d85b-46f9-a83f-0005a8df836c"
      },
      "outputs": [],
      "source": [
        "# summary_df_4 = get_summary_data_frame(summary_events_3)\n",
        "# display(summary_df_4)"
      ]
    },
    {
      "cell_type": "code",
      "execution_count": null,
      "id": "7ab22669-d5df-4832-815c-b789d959880e",
      "metadata": {
        "id": "7ab22669-d5df-4832-815c-b789d959880e"
      },
      "outputs": [],
      "source": [
        "# major_cali_cities_150km_2 = summary_df_4.to_csv('calicities_150km_89_99_new', index = False)"
      ]
    },
    {
      "cell_type": "code",
      "execution_count": null,
      "id": "564168c6-2922-4108-a0b0-14959151978a",
      "metadata": {
        "id": "564168c6-2922-4108-a0b0-14959151978a"
      },
      "outputs": [],
      "source": [
        "# current_00_23 = pd.read_csv('calicities_150km')\n",
        "# current_00_23.sort_values(by = 'time', ascending = False, inplace = True)\n",
        "# current_00_23"
      ]
    },
    {
      "cell_type": "code",
      "execution_count": null,
      "id": "29e7f895-ce01-4a8e-a1b6-08bdee56c6e4",
      "metadata": {
        "id": "29e7f895-ce01-4a8e-a1b6-08bdee56c6e4"
      },
      "outputs": [],
      "source": [
        "# current_89_99 = pd.read_csv('calicities_150km_89_99_new')\n",
        "# current_89_99.sort_values(by = 'time', ascending = False, inplace = True)\n",
        "# current_89_99.head()"
      ]
    },
    {
      "cell_type": "code",
      "execution_count": null,
      "id": "a1ef2a31-4283-4a48-b52c-d2de5001eb60",
      "metadata": {
        "id": "a1ef2a31-4283-4a48-b52c-d2de5001eb60"
      },
      "outputs": [],
      "source": [
        "# combined_df = pd.concat([current_00_23,current_89_99])\n",
        "# combined_df"
      ]
    },
    {
      "cell_type": "code",
      "execution_count": null,
      "id": "27a5de9f-2fd6-46bf-a5fb-5497447ca669",
      "metadata": {
        "id": "27a5de9f-2fd6-46bf-a5fb-5497447ca669"
      },
      "outputs": [],
      "source": [
        "# combined_df.info()"
      ]
    },
    {
      "cell_type": "code",
      "execution_count": null,
      "id": "042ddabe-1bd4-40ae-beb0-3a0ab9607ade",
      "metadata": {
        "id": "042ddabe-1bd4-40ae-beb0-3a0ab9607ade"
      },
      "outputs": [],
      "source": [
        "# filtered_df = combined_df[combined_df['alert'].notna()]\n",
        "# filtered_df.head()"
      ]
    },
    {
      "cell_type": "markdown",
      "id": "d1b5f4a8-e258-45d1-8ed7-59bbe0dff30e",
      "metadata": {
        "id": "d1b5f4a8-e258-45d1-8ed7-59bbe0dff30e"
      },
      "source": [
        "# Get Pager_df"
      ]
    },
    {
      "cell_type": "code",
      "execution_count": null,
      "id": "c17f59cc-9ac3-499e-8a63-2d464ab54843",
      "metadata": {
        "id": "c17f59cc-9ac3-499e-8a63-2d464ab54843"
      },
      "outputs": [],
      "source": [
        "# pager_list = []\n",
        "# pager_ids = [i for i in filtered_df['id']]\n",
        "# for pager in pager_ids:\n",
        "#     pager_event = get_event_by_id(pager)\n",
        "#     pager_df = get_pager_data_frame(pager_event)\n",
        "#     pager_list.append(pager_df)\n",
        "\n",
        "# new_pager_df = pd.concat(pager_list)"
      ]
    },
    {
      "cell_type": "code",
      "execution_count": null,
      "id": "5b52f06e-0809-4967-b417-66a6ab0f0585",
      "metadata": {
        "id": "5b52f06e-0809-4967-b417-66a6ab0f0585"
      },
      "outputs": [],
      "source": [
        "# new_pager_df"
      ]
    },
    {
      "cell_type": "code",
      "execution_count": null,
      "id": "eeb71ce6-54f9-4992-ad31-9c70c6276854",
      "metadata": {
        "id": "eeb71ce6-54f9-4992-ad31-9c70c6276854"
      },
      "outputs": [],
      "source": [
        "merged_df = pd.merge(combined_df, new_pager_df, on = 'id', how = 'left')\n",
        "merged_df"
      ]
    },
    {
      "cell_type": "code",
      "execution_count": null,
      "id": "5579530b-c083-4195-83b0-914f51c2435e",
      "metadata": {
        "id": "5579530b-c083-4195-83b0-914f51c2435e"
      },
      "outputs": [],
      "source": [
        "# merged_df.info()"
      ]
    },
    {
      "cell_type": "code",
      "execution_count": null,
      "id": "8d93a9f2-cef4-4e0a-b6da-0bbfda644f09",
      "metadata": {
        "id": "8d93a9f2-cef4-4e0a-b6da-0bbfda644f09"
      },
      "outputs": [],
      "source": []
    }
  ],
  "metadata": {
    "kernelspec": {
      "display_name": "Python 3",
      "language": "python",
      "name": "python3"
    },
    "language_info": {
      "codemirror_mode": {
        "name": "ipython",
        "version": 3
      },
      "file_extension": ".py",
      "mimetype": "text/x-python",
      "name": "python",
      "nbconvert_exporter": "python",
      "pygments_lexer": "ipython3",
      "version": "3.9.18"
    },
    "colab": {
      "provenance": [],
      "include_colab_link": true
    }
  },
  "nbformat": 4,
  "nbformat_minor": 5
}